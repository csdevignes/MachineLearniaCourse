{
 "cells": [
  {
   "cell_type": "markdown",
   "id": "75a796b7-ed77-48f9-b73a-e8fe17c4f7e3",
   "metadata": {},
   "source": [
    "# Dense neural network\n",
    "\n",
    "Le DNN est un réseau de neurones complètement connectés : un neurone d'une couche est connecté à toutes les autres neurones de la couche adjacente.\n",
    "- initialisation\n",
    "\n",
    "Puis itérations de :\n",
    "- forward propagation\n",
    "- back propagation\n",
    "- mise a jour des paramètres\n",
    "\n",
    "Epoch : un epoch signifie que tout le dataset est passé à l'intérieur du réseau.\n",
    "Batch size : nombre de données qui passent avant mis à jour des paramètres\n",
    "\n",
    "## Application 1 : Wine quality\n",
    "\n",
    "### Mise en place"
   ]
  },
  {
   "cell_type": "code",
   "execution_count": 1,
   "id": "f3964ff2-8a96-4de8-b731-0b7bf36ef79a",
   "metadata": {},
   "outputs": [],
   "source": [
    "import numpy as np\n",
    "import tensorflow as tf\n",
    "import keras\n",
    "\n",
    "import matplotlib.pyplot as plt\n",
    "import pandas as pd\n",
    "import os,sys\n",
    "from sklearn.model_selection import train_test_split"
   ]
  },
  {
   "cell_type": "code",
   "execution_count": 4,
   "id": "eadf9e72-9ad2-4a2f-b40c-73e763af7a1b",
   "metadata": {},
   "outputs": [],
   "source": [
    "data_path = \"dataset/winequality/winequality-red.csv\"\n",
    "data = pd.read_csv(data_path, sep=';')"
   ]
  },
  {
   "cell_type": "code",
   "execution_count": 5,
   "id": "671f8708-d3d0-4ad5-9207-1f1b1720cc3a",
   "metadata": {},
   "outputs": [
    {
     "data": {
      "text/html": [
       "<div>\n",
       "<style scoped>\n",
       "    .dataframe tbody tr th:only-of-type {\n",
       "        vertical-align: middle;\n",
       "    }\n",
       "\n",
       "    .dataframe tbody tr th {\n",
       "        vertical-align: top;\n",
       "    }\n",
       "\n",
       "    .dataframe thead th {\n",
       "        text-align: right;\n",
       "    }\n",
       "</style>\n",
       "<table border=\"1\" class=\"dataframe\">\n",
       "  <thead>\n",
       "    <tr style=\"text-align: right;\">\n",
       "      <th></th>\n",
       "      <th>fixed acidity</th>\n",
       "      <th>volatile acidity</th>\n",
       "      <th>citric acid</th>\n",
       "      <th>residual sugar</th>\n",
       "      <th>chlorides</th>\n",
       "      <th>free sulfur dioxide</th>\n",
       "      <th>total sulfur dioxide</th>\n",
       "      <th>density</th>\n",
       "      <th>pH</th>\n",
       "      <th>sulphates</th>\n",
       "      <th>alcohol</th>\n",
       "      <th>quality</th>\n",
       "    </tr>\n",
       "  </thead>\n",
       "  <tbody>\n",
       "    <tr>\n",
       "      <th>0</th>\n",
       "      <td>7.4</td>\n",
       "      <td>0.70</td>\n",
       "      <td>0.00</td>\n",
       "      <td>1.9</td>\n",
       "      <td>0.076</td>\n",
       "      <td>11.0</td>\n",
       "      <td>34.0</td>\n",
       "      <td>0.9978</td>\n",
       "      <td>3.51</td>\n",
       "      <td>0.56</td>\n",
       "      <td>9.4</td>\n",
       "      <td>5</td>\n",
       "    </tr>\n",
       "    <tr>\n",
       "      <th>1</th>\n",
       "      <td>7.8</td>\n",
       "      <td>0.88</td>\n",
       "      <td>0.00</td>\n",
       "      <td>2.6</td>\n",
       "      <td>0.098</td>\n",
       "      <td>25.0</td>\n",
       "      <td>67.0</td>\n",
       "      <td>0.9968</td>\n",
       "      <td>3.20</td>\n",
       "      <td>0.68</td>\n",
       "      <td>9.8</td>\n",
       "      <td>5</td>\n",
       "    </tr>\n",
       "    <tr>\n",
       "      <th>2</th>\n",
       "      <td>7.8</td>\n",
       "      <td>0.76</td>\n",
       "      <td>0.04</td>\n",
       "      <td>2.3</td>\n",
       "      <td>0.092</td>\n",
       "      <td>15.0</td>\n",
       "      <td>54.0</td>\n",
       "      <td>0.9970</td>\n",
       "      <td>3.26</td>\n",
       "      <td>0.65</td>\n",
       "      <td>9.8</td>\n",
       "      <td>5</td>\n",
       "    </tr>\n",
       "    <tr>\n",
       "      <th>3</th>\n",
       "      <td>11.2</td>\n",
       "      <td>0.28</td>\n",
       "      <td>0.56</td>\n",
       "      <td>1.9</td>\n",
       "      <td>0.075</td>\n",
       "      <td>17.0</td>\n",
       "      <td>60.0</td>\n",
       "      <td>0.9980</td>\n",
       "      <td>3.16</td>\n",
       "      <td>0.58</td>\n",
       "      <td>9.8</td>\n",
       "      <td>6</td>\n",
       "    </tr>\n",
       "    <tr>\n",
       "      <th>4</th>\n",
       "      <td>7.4</td>\n",
       "      <td>0.70</td>\n",
       "      <td>0.00</td>\n",
       "      <td>1.9</td>\n",
       "      <td>0.076</td>\n",
       "      <td>11.0</td>\n",
       "      <td>34.0</td>\n",
       "      <td>0.9978</td>\n",
       "      <td>3.51</td>\n",
       "      <td>0.56</td>\n",
       "      <td>9.4</td>\n",
       "      <td>5</td>\n",
       "    </tr>\n",
       "  </tbody>\n",
       "</table>\n",
       "</div>"
      ],
      "text/plain": [
       "   fixed acidity  volatile acidity  citric acid  residual sugar  chlorides  \\\n",
       "0            7.4              0.70         0.00             1.9      0.076   \n",
       "1            7.8              0.88         0.00             2.6      0.098   \n",
       "2            7.8              0.76         0.04             2.3      0.092   \n",
       "3           11.2              0.28         0.56             1.9      0.075   \n",
       "4            7.4              0.70         0.00             1.9      0.076   \n",
       "\n",
       "   free sulfur dioxide  total sulfur dioxide  density    pH  sulphates  \\\n",
       "0                 11.0                  34.0   0.9978  3.51       0.56   \n",
       "1                 25.0                  67.0   0.9968  3.20       0.68   \n",
       "2                 15.0                  54.0   0.9970  3.26       0.65   \n",
       "3                 17.0                  60.0   0.9980  3.16       0.58   \n",
       "4                 11.0                  34.0   0.9978  3.51       0.56   \n",
       "\n",
       "   alcohol  quality  \n",
       "0      9.4        5  \n",
       "1      9.8        5  \n",
       "2      9.8        5  \n",
       "3      9.8        6  \n",
       "4      9.4        5  "
      ]
     },
     "execution_count": 5,
     "metadata": {},
     "output_type": "execute_result"
    }
   ],
   "source": [
    "data.head()"
   ]
  },
  {
   "cell_type": "code",
   "execution_count": 6,
   "id": "7d17117a-7ff3-4ae0-b43d-2beacaade5b0",
   "metadata": {},
   "outputs": [
    {
     "name": "stdout",
     "output_type": "stream",
     "text": [
      "Missing Data : 0 Shape is :  (1599, 12)\n"
     ]
    }
   ],
   "source": [
    "print('Missing Data :', data.isna().sum().sum(), 'Shape is : ', data.shape)"
   ]
  },
  {
   "cell_type": "markdown",
   "id": "a6ec04f9-83f8-4b27-90ac-d066b0db0687",
   "metadata": {},
   "source": [
    "La variable cible est 'quality'.\n",
    "\n",
    "### Préparation des données"
   ]
  },
  {
   "cell_type": "code",
   "execution_count": 7,
   "id": "1c9d3494-12c1-4df5-8c4c-dc19eb26e6bb",
   "metadata": {},
   "outputs": [],
   "source": [
    "X = data.drop('quality', axis=1)\n",
    "y = data['quality']"
   ]
  },
  {
   "cell_type": "code",
   "execution_count": 8,
   "id": "f29026c4-06bb-400c-8849-ae1a8990cdbf",
   "metadata": {},
   "outputs": [],
   "source": [
    "# Normalisation min-max (x-xmin)/(xmax-xmin)\n",
    "Xmin = X.min()\n",
    "Xmax = X.max()\n",
    "X_n = (X-X.min())/(Xmax-Xmin)\n",
    "X_n = np.array(X_n)\n",
    "y = np.array(y)"
   ]
  },
  {
   "cell_type": "code",
   "execution_count": 9,
   "id": "69db4c17-35fe-4741-b55d-92a63ae3b1db",
   "metadata": {},
   "outputs": [],
   "source": [
    "# Normalisation centrée réduite\n",
    "Xmean = X.mean()\n",
    "Xstd = X.std()\n",
    "X_n = (X-Xmean)/Xstd\n",
    "X_n = np.array(X_n)\n",
    "y = np.array(y)"
   ]
  },
  {
   "cell_type": "code",
   "execution_count": 10,
   "id": "4e70514d-4731-4105-a10c-117ca9df3fda",
   "metadata": {},
   "outputs": [
    {
     "name": "stdout",
     "output_type": "stream",
     "text": [
      "X_train :  (1279, 11) y_train :  (1279,)\n",
      "X_test :  (320, 11) y_test :  (320,)\n"
     ]
    }
   ],
   "source": [
    "X_train, X_test, y_train, y_test = train_test_split(X_n, y, test_size=0.2, random_state=42)\n",
    "print('X_train : ', X_train.shape, 'y_train : ', y_train.shape)\n",
    "print('X_test : ', X_test.shape, 'y_test : ', y_test.shape)"
   ]
  },
  {
   "cell_type": "code",
   "execution_count": 11,
   "id": "7007b181-d847-44af-b3f8-a692e90ea130",
   "metadata": {},
   "outputs": [
    {
     "data": {
      "text/plain": [
       "(1279, 11)"
      ]
     },
     "execution_count": 11,
     "metadata": {},
     "output_type": "execute_result"
    }
   ],
   "source": [
    "X_train.shape"
   ]
  },
  {
   "cell_type": "markdown",
   "id": "b588569c-4e10-4766-a0ea-dba25bdef108",
   "metadata": {},
   "source": [
    "### Définition du Modèle"
   ]
  },
  {
   "cell_type": "code",
   "execution_count": 12,
   "id": "bc1a3e12-dc2d-437a-b192-7119939df8a5",
   "metadata": {},
   "outputs": [],
   "source": [
    "def get_model_v1(shape):\n",
    "    model = keras.models.Sequential()\n",
    "    model.add(keras.layers.Input(shape, name='InputLayer'))\n",
    "    model.add(keras.layers.Dense(64, activation='relu', name='Dense_n1'))\n",
    "    model.add(keras.layers.Dense(64, activation='relu', name='Dense_n2'))\n",
    "    model.add(keras.layers.Dense(1, name='Output'))\n",
    "    model.compile(optimizer = 'rmsprop', loss = 'mse', metrics = ['mae', 'mse'])\n",
    "    return model"
   ]
  },
  {
   "cell_type": "markdown",
   "id": "cf58c7e4-5c12-46d6-bfa8-2b83892a7d04",
   "metadata": {},
   "source": [
    "### Entrainement du modèle"
   ]
  },
  {
   "cell_type": "code",
   "execution_count": 13,
   "id": "5eceacf3-5493-4665-8dfd-7ac28b910537",
   "metadata": {},
   "outputs": [
    {
     "data": {
      "text/html": [
       "<pre style=\"white-space:pre;overflow-x:auto;line-height:normal;font-family:Menlo,'DejaVu Sans Mono',consolas,'Courier New',monospace\"><span style=\"font-weight: bold\">Model: \"sequential\"</span>\n",
       "</pre>\n"
      ],
      "text/plain": [
       "\u001b[1mModel: \"sequential\"\u001b[0m\n"
      ]
     },
     "metadata": {},
     "output_type": "display_data"
    },
    {
     "data": {
      "text/html": [
       "<pre style=\"white-space:pre;overflow-x:auto;line-height:normal;font-family:Menlo,'DejaVu Sans Mono',consolas,'Courier New',monospace\">┏━━━━━━━━━━━━━━━━━━━━━━━━━━━━━━━━━━━━━━┳━━━━━━━━━━━━━━━━━━━━━━━━━━━━━┳━━━━━━━━━━━━━━━━━┓\n",
       "┃<span style=\"font-weight: bold\"> Layer (type)                         </span>┃<span style=\"font-weight: bold\"> Output Shape                </span>┃<span style=\"font-weight: bold\">         Param # </span>┃\n",
       "┡━━━━━━━━━━━━━━━━━━━━━━━━━━━━━━━━━━━━━━╇━━━━━━━━━━━━━━━━━━━━━━━━━━━━━╇━━━━━━━━━━━━━━━━━┩\n",
       "│ Dense_n1 (<span style=\"color: #0087ff; text-decoration-color: #0087ff\">Dense</span>)                     │ (<span style=\"color: #00d7ff; text-decoration-color: #00d7ff\">None</span>, <span style=\"color: #00af00; text-decoration-color: #00af00\">64</span>)                  │             <span style=\"color: #00af00; text-decoration-color: #00af00\">768</span> │\n",
       "├──────────────────────────────────────┼─────────────────────────────┼─────────────────┤\n",
       "│ Dense_n2 (<span style=\"color: #0087ff; text-decoration-color: #0087ff\">Dense</span>)                     │ (<span style=\"color: #00d7ff; text-decoration-color: #00d7ff\">None</span>, <span style=\"color: #00af00; text-decoration-color: #00af00\">64</span>)                  │           <span style=\"color: #00af00; text-decoration-color: #00af00\">4,160</span> │\n",
       "├──────────────────────────────────────┼─────────────────────────────┼─────────────────┤\n",
       "│ Output (<span style=\"color: #0087ff; text-decoration-color: #0087ff\">Dense</span>)                       │ (<span style=\"color: #00d7ff; text-decoration-color: #00d7ff\">None</span>, <span style=\"color: #00af00; text-decoration-color: #00af00\">1</span>)                   │              <span style=\"color: #00af00; text-decoration-color: #00af00\">65</span> │\n",
       "└──────────────────────────────────────┴─────────────────────────────┴─────────────────┘\n",
       "</pre>\n"
      ],
      "text/plain": [
       "┏━━━━━━━━━━━━━━━━━━━━━━━━━━━━━━━━━━━━━━┳━━━━━━━━━━━━━━━━━━━━━━━━━━━━━┳━━━━━━━━━━━━━━━━━┓\n",
       "┃\u001b[1m \u001b[0m\u001b[1mLayer (type)                        \u001b[0m\u001b[1m \u001b[0m┃\u001b[1m \u001b[0m\u001b[1mOutput Shape               \u001b[0m\u001b[1m \u001b[0m┃\u001b[1m \u001b[0m\u001b[1m        Param #\u001b[0m\u001b[1m \u001b[0m┃\n",
       "┡━━━━━━━━━━━━━━━━━━━━━━━━━━━━━━━━━━━━━━╇━━━━━━━━━━━━━━━━━━━━━━━━━━━━━╇━━━━━━━━━━━━━━━━━┩\n",
       "│ Dense_n1 (\u001b[38;5;33mDense\u001b[0m)                     │ (\u001b[38;5;45mNone\u001b[0m, \u001b[38;5;34m64\u001b[0m)                  │             \u001b[38;5;34m768\u001b[0m │\n",
       "├──────────────────────────────────────┼─────────────────────────────┼─────────────────┤\n",
       "│ Dense_n2 (\u001b[38;5;33mDense\u001b[0m)                     │ (\u001b[38;5;45mNone\u001b[0m, \u001b[38;5;34m64\u001b[0m)                  │           \u001b[38;5;34m4,160\u001b[0m │\n",
       "├──────────────────────────────────────┼─────────────────────────────┼─────────────────┤\n",
       "│ Output (\u001b[38;5;33mDense\u001b[0m)                       │ (\u001b[38;5;45mNone\u001b[0m, \u001b[38;5;34m1\u001b[0m)                   │              \u001b[38;5;34m65\u001b[0m │\n",
       "└──────────────────────────────────────┴─────────────────────────────┴─────────────────┘\n"
      ]
     },
     "metadata": {},
     "output_type": "display_data"
    },
    {
     "data": {
      "text/html": [
       "<pre style=\"white-space:pre;overflow-x:auto;line-height:normal;font-family:Menlo,'DejaVu Sans Mono',consolas,'Courier New',monospace\"><span style=\"font-weight: bold\"> Total params: </span><span style=\"color: #00af00; text-decoration-color: #00af00\">4,993</span> (19.50 KB)\n",
       "</pre>\n"
      ],
      "text/plain": [
       "\u001b[1m Total params: \u001b[0m\u001b[38;5;34m4,993\u001b[0m (19.50 KB)\n"
      ]
     },
     "metadata": {},
     "output_type": "display_data"
    },
    {
     "data": {
      "text/html": [
       "<pre style=\"white-space:pre;overflow-x:auto;line-height:normal;font-family:Menlo,'DejaVu Sans Mono',consolas,'Courier New',monospace\"><span style=\"font-weight: bold\"> Trainable params: </span><span style=\"color: #00af00; text-decoration-color: #00af00\">4,993</span> (19.50 KB)\n",
       "</pre>\n"
      ],
      "text/plain": [
       "\u001b[1m Trainable params: \u001b[0m\u001b[38;5;34m4,993\u001b[0m (19.50 KB)\n"
      ]
     },
     "metadata": {},
     "output_type": "display_data"
    },
    {
     "data": {
      "text/html": [
       "<pre style=\"white-space:pre;overflow-x:auto;line-height:normal;font-family:Menlo,'DejaVu Sans Mono',consolas,'Courier New',monospace\"><span style=\"font-weight: bold\"> Non-trainable params: </span><span style=\"color: #00af00; text-decoration-color: #00af00\">0</span> (0.00 B)\n",
       "</pre>\n"
      ],
      "text/plain": [
       "\u001b[1m Non-trainable params: \u001b[0m\u001b[38;5;34m0\u001b[0m (0.00 B)\n"
      ]
     },
     "metadata": {},
     "output_type": "display_data"
    }
   ],
   "source": [
    "model = get_model_v1((X_train.shape[1],))\n",
    "model.summary()"
   ]
  },
  {
   "cell_type": "code",
   "execution_count": 14,
   "id": "eb5bbfd1-db35-4a44-9eee-c11b8cee3b00",
   "metadata": {},
   "outputs": [],
   "source": [
    "os.makedirs('./models', mode=0o750, exist_ok = True)\n",
    "save_dir = './models/wine_best_model.keras'\n",
    "\n",
    "savemodel_callback = keras.callbacks.ModelCheckpoint(filepath=save_dir, verbose = 0, save_best_only = True)"
   ]
  },
  {
   "cell_type": "code",
   "execution_count": 15,
   "id": "692b1f08-c180-4abe-8e97-53e2bb1c50d4",
   "metadata": {},
   "outputs": [
    {
     "name": "stdout",
     "output_type": "stream",
     "text": [
      "Epoch 1/100\n",
      "\u001b[1m128/128\u001b[0m \u001b[32m━━━━━━━━━━━━━━━━━━━━\u001b[0m\u001b[37m\u001b[0m \u001b[1m1s\u001b[0m 1ms/step - loss: 19.2679 - mae: 3.9476 - mse: 19.2679 - val_loss: 2.3553 - val_mae: 1.1956 - val_mse: 2.3553\n",
      "Epoch 2/100\n",
      "\u001b[1m128/128\u001b[0m \u001b[32m━━━━━━━━━━━━━━━━━━━━\u001b[0m\u001b[37m\u001b[0m \u001b[1m0s\u001b[0m 750us/step - loss: 2.1202 - mae: 1.1444 - mse: 2.1202 - val_loss: 1.3254 - val_mae: 0.9071 - val_mse: 1.3254\n",
      "Epoch 3/100\n",
      "\u001b[1m128/128\u001b[0m \u001b[32m━━━━━━━━━━━━━━━━━━━━\u001b[0m\u001b[37m\u001b[0m \u001b[1m0s\u001b[0m 758us/step - loss: 1.2851 - mae: 0.8899 - mse: 1.2851 - val_loss: 0.8804 - val_mae: 0.7427 - val_mse: 0.8804\n",
      "Epoch 4/100\n",
      "\u001b[1m128/128\u001b[0m \u001b[32m━━━━━━━━━━━━━━━━━━━━\u001b[0m\u001b[37m\u001b[0m \u001b[1m0s\u001b[0m 702us/step - loss: 0.8822 - mae: 0.7242 - mse: 0.8822 - val_loss: 0.6711 - val_mae: 0.6582 - val_mse: 0.6711\n",
      "Epoch 5/100\n",
      "\u001b[1m128/128\u001b[0m \u001b[32m━━━━━━━━━━━━━━━━━━━━\u001b[0m\u001b[37m\u001b[0m \u001b[1m0s\u001b[0m 751us/step - loss: 0.6809 - mae: 0.6218 - mse: 0.6809 - val_loss: 0.6435 - val_mae: 0.6477 - val_mse: 0.6435\n",
      "Epoch 6/100\n",
      "\u001b[1m128/128\u001b[0m \u001b[32m━━━━━━━━━━━━━━━━━━━━\u001b[0m\u001b[37m\u001b[0m \u001b[1m0s\u001b[0m 738us/step - loss: 0.5705 - mae: 0.5896 - mse: 0.5705 - val_loss: 0.6203 - val_mae: 0.6352 - val_mse: 0.6203\n",
      "Epoch 7/100\n",
      "\u001b[1m128/128\u001b[0m \u001b[32m━━━━━━━━━━━━━━━━━━━━\u001b[0m\u001b[37m\u001b[0m \u001b[1m0s\u001b[0m 734us/step - loss: 0.5237 - mae: 0.5560 - mse: 0.5237 - val_loss: 0.5194 - val_mae: 0.5710 - val_mse: 0.5194\n",
      "Epoch 8/100\n",
      "\u001b[1m128/128\u001b[0m \u001b[32m━━━━━━━━━━━━━━━━━━━━\u001b[0m\u001b[37m\u001b[0m \u001b[1m0s\u001b[0m 742us/step - loss: 0.4680 - mae: 0.5259 - mse: 0.4680 - val_loss: 0.4655 - val_mae: 0.5486 - val_mse: 0.4655\n",
      "Epoch 9/100\n",
      "\u001b[1m128/128\u001b[0m \u001b[32m━━━━━━━━━━━━━━━━━━━━\u001b[0m\u001b[37m\u001b[0m \u001b[1m0s\u001b[0m 734us/step - loss: 0.4386 - mae: 0.5178 - mse: 0.4386 - val_loss: 0.4436 - val_mae: 0.5259 - val_mse: 0.4436\n",
      "Epoch 10/100\n",
      "\u001b[1m128/128\u001b[0m \u001b[32m━━━━━━━━━━━━━━━━━━━━\u001b[0m\u001b[37m\u001b[0m \u001b[1m0s\u001b[0m 730us/step - loss: 0.4493 - mae: 0.5137 - mse: 0.4493 - val_loss: 0.4370 - val_mae: 0.5299 - val_mse: 0.4370\n",
      "Epoch 11/100\n",
      "\u001b[1m128/128\u001b[0m \u001b[32m━━━━━━━━━━━━━━━━━━━━\u001b[0m\u001b[37m\u001b[0m \u001b[1m0s\u001b[0m 728us/step - loss: 0.4473 - mae: 0.5260 - mse: 0.4473 - val_loss: 0.4162 - val_mae: 0.5038 - val_mse: 0.4162\n",
      "Epoch 12/100\n",
      "\u001b[1m128/128\u001b[0m \u001b[32m━━━━━━━━━━━━━━━━━━━━\u001b[0m\u001b[37m\u001b[0m \u001b[1m0s\u001b[0m 721us/step - loss: 0.3868 - mae: 0.4846 - mse: 0.3868 - val_loss: 0.3860 - val_mae: 0.4926 - val_mse: 0.3860\n",
      "Epoch 13/100\n",
      "\u001b[1m128/128\u001b[0m \u001b[32m━━━━━━━━━━━━━━━━━━━━\u001b[0m\u001b[37m\u001b[0m \u001b[1m0s\u001b[0m 733us/step - loss: 0.4154 - mae: 0.5024 - mse: 0.4154 - val_loss: 0.3834 - val_mae: 0.4926 - val_mse: 0.3834\n",
      "Epoch 14/100\n",
      "\u001b[1m128/128\u001b[0m \u001b[32m━━━━━━━━━━━━━━━━━━━━\u001b[0m\u001b[37m\u001b[0m \u001b[1m0s\u001b[0m 689us/step - loss: 0.3810 - mae: 0.4799 - mse: 0.3810 - val_loss: 0.4116 - val_mae: 0.5090 - val_mse: 0.4116\n",
      "Epoch 15/100\n",
      "\u001b[1m128/128\u001b[0m \u001b[32m━━━━━━━━━━━━━━━━━━━━\u001b[0m\u001b[37m\u001b[0m \u001b[1m0s\u001b[0m 689us/step - loss: 0.3682 - mae: 0.4692 - mse: 0.3682 - val_loss: 0.4179 - val_mae: 0.5077 - val_mse: 0.4179\n",
      "Epoch 16/100\n",
      "\u001b[1m128/128\u001b[0m \u001b[32m━━━━━━━━━━━━━━━━━━━━\u001b[0m\u001b[37m\u001b[0m \u001b[1m0s\u001b[0m 736us/step - loss: 0.3541 - mae: 0.4670 - mse: 0.3541 - val_loss: 0.3767 - val_mae: 0.4864 - val_mse: 0.3767\n",
      "Epoch 17/100\n",
      "\u001b[1m128/128\u001b[0m \u001b[32m━━━━━━━━━━━━━━━━━━━━\u001b[0m\u001b[37m\u001b[0m \u001b[1m0s\u001b[0m 665us/step - loss: 0.3607 - mae: 0.4660 - mse: 0.3607 - val_loss: 0.4262 - val_mae: 0.5067 - val_mse: 0.4262\n",
      "Epoch 18/100\n",
      "\u001b[1m128/128\u001b[0m \u001b[32m━━━━━━━━━━━━━━━━━━━━\u001b[0m\u001b[37m\u001b[0m \u001b[1m0s\u001b[0m 681us/step - loss: 0.3345 - mae: 0.4459 - mse: 0.3345 - val_loss: 0.3934 - val_mae: 0.5040 - val_mse: 0.3934\n",
      "Epoch 19/100\n",
      "\u001b[1m128/128\u001b[0m \u001b[32m━━━━━━━━━━━━━━━━━━━━\u001b[0m\u001b[37m\u001b[0m \u001b[1m0s\u001b[0m 728us/step - loss: 0.3725 - mae: 0.4774 - mse: 0.3725 - val_loss: 0.3708 - val_mae: 0.4765 - val_mse: 0.3708\n",
      "Epoch 20/100\n",
      "\u001b[1m128/128\u001b[0m \u001b[32m━━━━━━━━━━━━━━━━━━━━\u001b[0m\u001b[37m\u001b[0m \u001b[1m0s\u001b[0m 689us/step - loss: 0.3457 - mae: 0.4511 - mse: 0.3457 - val_loss: 0.3775 - val_mae: 0.4952 - val_mse: 0.3775\n",
      "Epoch 21/100\n",
      "\u001b[1m128/128\u001b[0m \u001b[32m━━━━━━━━━━━━━━━━━━━━\u001b[0m\u001b[37m\u001b[0m \u001b[1m0s\u001b[0m 688us/step - loss: 0.3274 - mae: 0.4460 - mse: 0.3274 - val_loss: 0.3821 - val_mae: 0.4891 - val_mse: 0.3821\n",
      "Epoch 22/100\n",
      "\u001b[1m128/128\u001b[0m \u001b[32m━━━━━━━━━━━━━━━━━━━━\u001b[0m\u001b[37m\u001b[0m \u001b[1m0s\u001b[0m 665us/step - loss: 0.3456 - mae: 0.4550 - mse: 0.3456 - val_loss: 0.3754 - val_mae: 0.4849 - val_mse: 0.3754\n",
      "Epoch 23/100\n",
      "\u001b[1m128/128\u001b[0m \u001b[32m━━━━━━━━━━━━━━━━━━━━\u001b[0m\u001b[37m\u001b[0m \u001b[1m0s\u001b[0m 654us/step - loss: 0.3331 - mae: 0.4549 - mse: 0.3331 - val_loss: 0.4316 - val_mae: 0.5164 - val_mse: 0.4316\n",
      "Epoch 24/100\n",
      "\u001b[1m128/128\u001b[0m \u001b[32m━━━━━━━━━━━━━━━━━━━━\u001b[0m\u001b[37m\u001b[0m \u001b[1m0s\u001b[0m 673us/step - loss: 0.3258 - mae: 0.4420 - mse: 0.3258 - val_loss: 0.3898 - val_mae: 0.4941 - val_mse: 0.3898\n",
      "Epoch 25/100\n",
      "\u001b[1m128/128\u001b[0m \u001b[32m━━━━━━━━━━━━━━━━━━━━\u001b[0m\u001b[37m\u001b[0m \u001b[1m0s\u001b[0m 752us/step - loss: 0.3019 - mae: 0.4315 - mse: 0.3019 - val_loss: 0.3675 - val_mae: 0.4803 - val_mse: 0.3675\n",
      "Epoch 26/100\n",
      "\u001b[1m128/128\u001b[0m \u001b[32m━━━━━━━━━━━━━━━━━━━━\u001b[0m\u001b[37m\u001b[0m \u001b[1m0s\u001b[0m 657us/step - loss: 0.3294 - mae: 0.4395 - mse: 0.3294 - val_loss: 0.4040 - val_mae: 0.4986 - val_mse: 0.4040\n",
      "Epoch 27/100\n",
      "\u001b[1m128/128\u001b[0m \u001b[32m━━━━━━━━━━━━━━━━━━━━\u001b[0m\u001b[37m\u001b[0m \u001b[1m0s\u001b[0m 713us/step - loss: 0.3191 - mae: 0.4337 - mse: 0.3191 - val_loss: 0.3989 - val_mae: 0.5042 - val_mse: 0.3989\n",
      "Epoch 28/100\n",
      "\u001b[1m128/128\u001b[0m \u001b[32m━━━━━━━━━━━━━━━━━━━━\u001b[0m\u001b[37m\u001b[0m \u001b[1m0s\u001b[0m 690us/step - loss: 0.3279 - mae: 0.4463 - mse: 0.3279 - val_loss: 0.3892 - val_mae: 0.4822 - val_mse: 0.3892\n",
      "Epoch 29/100\n",
      "\u001b[1m128/128\u001b[0m \u001b[32m━━━━━━━━━━━━━━━━━━━━\u001b[0m\u001b[37m\u001b[0m \u001b[1m0s\u001b[0m 694us/step - loss: 0.3070 - mae: 0.4279 - mse: 0.3070 - val_loss: 0.3778 - val_mae: 0.4832 - val_mse: 0.3778\n",
      "Epoch 30/100\n",
      "\u001b[1m128/128\u001b[0m \u001b[32m━━━━━━━━━━━━━━━━━━━━\u001b[0m\u001b[37m\u001b[0m \u001b[1m0s\u001b[0m 677us/step - loss: 0.3004 - mae: 0.4182 - mse: 0.3004 - val_loss: 0.4086 - val_mae: 0.4998 - val_mse: 0.4086\n",
      "Epoch 31/100\n",
      "\u001b[1m128/128\u001b[0m \u001b[32m━━━━━━━━━━━━━━━━━━━━\u001b[0m\u001b[37m\u001b[0m \u001b[1m0s\u001b[0m 676us/step - loss: 0.2838 - mae: 0.4116 - mse: 0.2838 - val_loss: 0.4014 - val_mae: 0.5057 - val_mse: 0.4014\n",
      "Epoch 32/100\n",
      "\u001b[1m128/128\u001b[0m \u001b[32m━━━━━━━━━━━━━━━━━━━━\u001b[0m\u001b[37m\u001b[0m \u001b[1m0s\u001b[0m 686us/step - loss: 0.2990 - mae: 0.4200 - mse: 0.2990 - val_loss: 0.3836 - val_mae: 0.4919 - val_mse: 0.3836\n",
      "Epoch 33/100\n",
      "\u001b[1m128/128\u001b[0m \u001b[32m━━━━━━━━━━━━━━━━━━━━\u001b[0m\u001b[37m\u001b[0m \u001b[1m0s\u001b[0m 659us/step - loss: 0.2972 - mae: 0.4217 - mse: 0.2972 - val_loss: 0.3862 - val_mae: 0.4845 - val_mse: 0.3862\n",
      "Epoch 34/100\n",
      "\u001b[1m128/128\u001b[0m \u001b[32m━━━━━━━━━━━━━━━━━━━━\u001b[0m\u001b[37m\u001b[0m \u001b[1m0s\u001b[0m 682us/step - loss: 0.3116 - mae: 0.4254 - mse: 0.3116 - val_loss: 0.4101 - val_mae: 0.4975 - val_mse: 0.4101\n",
      "Epoch 35/100\n",
      "\u001b[1m128/128\u001b[0m \u001b[32m━━━━━━━━━━━━━━━━━━━━\u001b[0m\u001b[37m\u001b[0m \u001b[1m0s\u001b[0m 738us/step - loss: 0.2943 - mae: 0.4134 - mse: 0.2943 - val_loss: 0.3669 - val_mae: 0.4791 - val_mse: 0.3669\n",
      "Epoch 36/100\n",
      "\u001b[1m128/128\u001b[0m \u001b[32m━━━━━━━━━━━━━━━━━━━━\u001b[0m\u001b[37m\u001b[0m \u001b[1m0s\u001b[0m 678us/step - loss: 0.3075 - mae: 0.4151 - mse: 0.3075 - val_loss: 0.3975 - val_mae: 0.5013 - val_mse: 0.3975\n",
      "Epoch 37/100\n",
      "\u001b[1m128/128\u001b[0m \u001b[32m━━━━━━━━━━━━━━━━━━━━\u001b[0m\u001b[37m\u001b[0m \u001b[1m0s\u001b[0m 687us/step - loss: 0.2967 - mae: 0.4222 - mse: 0.2967 - val_loss: 0.3784 - val_mae: 0.4766 - val_mse: 0.3784\n",
      "Epoch 38/100\n",
      "\u001b[1m128/128\u001b[0m \u001b[32m━━━━━━━━━━━━━━━━━━━━\u001b[0m\u001b[37m\u001b[0m \u001b[1m0s\u001b[0m 686us/step - loss: 0.2897 - mae: 0.4084 - mse: 0.2897 - val_loss: 0.3685 - val_mae: 0.4735 - val_mse: 0.3685\n",
      "Epoch 39/100\n",
      "\u001b[1m128/128\u001b[0m \u001b[32m━━━━━━━━━━━━━━━━━━━━\u001b[0m\u001b[37m\u001b[0m \u001b[1m0s\u001b[0m 703us/step - loss: 0.2891 - mae: 0.4155 - mse: 0.2891 - val_loss: 0.3854 - val_mae: 0.4936 - val_mse: 0.3854\n",
      "Epoch 40/100\n",
      "\u001b[1m128/128\u001b[0m \u001b[32m━━━━━━━━━━━━━━━━━━━━\u001b[0m\u001b[37m\u001b[0m \u001b[1m0s\u001b[0m 711us/step - loss: 0.2734 - mae: 0.4013 - mse: 0.2734 - val_loss: 0.5359 - val_mae: 0.5830 - val_mse: 0.5359\n",
      "Epoch 41/100\n",
      "\u001b[1m128/128\u001b[0m \u001b[32m━━━━━━━━━━━━━━━━━━━━\u001b[0m\u001b[37m\u001b[0m \u001b[1m0s\u001b[0m 703us/step - loss: 0.2760 - mae: 0.4094 - mse: 0.2760 - val_loss: 0.4160 - val_mae: 0.5022 - val_mse: 0.4160\n",
      "Epoch 42/100\n",
      "\u001b[1m128/128\u001b[0m \u001b[32m━━━━━━━━━━━━━━━━━━━━\u001b[0m\u001b[37m\u001b[0m \u001b[1m0s\u001b[0m 719us/step - loss: 0.2740 - mae: 0.4074 - mse: 0.2740 - val_loss: 0.4267 - val_mae: 0.5175 - val_mse: 0.4267\n",
      "Epoch 43/100\n",
      "\u001b[1m128/128\u001b[0m \u001b[32m━━━━━━━━━━━━━━━━━━━━\u001b[0m\u001b[37m\u001b[0m \u001b[1m0s\u001b[0m 695us/step - loss: 0.2739 - mae: 0.4049 - mse: 0.2739 - val_loss: 0.4031 - val_mae: 0.4922 - val_mse: 0.4031\n",
      "Epoch 44/100\n",
      "\u001b[1m128/128\u001b[0m \u001b[32m━━━━━━━━━━━━━━━━━━━━\u001b[0m\u001b[37m\u001b[0m \u001b[1m0s\u001b[0m 671us/step - loss: 0.2907 - mae: 0.4057 - mse: 0.2907 - val_loss: 0.3770 - val_mae: 0.4826 - val_mse: 0.3770\n",
      "Epoch 45/100\n",
      "\u001b[1m128/128\u001b[0m \u001b[32m━━━━━━━━━━━━━━━━━━━━\u001b[0m\u001b[37m\u001b[0m \u001b[1m0s\u001b[0m 730us/step - loss: 0.2799 - mae: 0.3961 - mse: 0.2799 - val_loss: 0.3665 - val_mae: 0.4810 - val_mse: 0.3665\n",
      "Epoch 46/100\n",
      "\u001b[1m128/128\u001b[0m \u001b[32m━━━━━━━━━━━━━━━━━━━━\u001b[0m\u001b[37m\u001b[0m \u001b[1m0s\u001b[0m 694us/step - loss: 0.2726 - mae: 0.4060 - mse: 0.2726 - val_loss: 0.3685 - val_mae: 0.4674 - val_mse: 0.3685\n",
      "Epoch 47/100\n",
      "\u001b[1m128/128\u001b[0m \u001b[32m━━━━━━━━━━━━━━━━━━━━\u001b[0m\u001b[37m\u001b[0m \u001b[1m0s\u001b[0m 670us/step - loss: 0.2492 - mae: 0.3836 - mse: 0.2492 - val_loss: 0.3790 - val_mae: 0.4808 - val_mse: 0.3790\n",
      "Epoch 48/100\n",
      "\u001b[1m128/128\u001b[0m \u001b[32m━━━━━━━━━━━━━━━━━━━━\u001b[0m\u001b[37m\u001b[0m \u001b[1m0s\u001b[0m 717us/step - loss: 0.2509 - mae: 0.3907 - mse: 0.2509 - val_loss: 0.4263 - val_mae: 0.5181 - val_mse: 0.4263\n",
      "Epoch 49/100\n",
      "\u001b[1m128/128\u001b[0m \u001b[32m━━━━━━━━━━━━━━━━━━━━\u001b[0m\u001b[37m\u001b[0m \u001b[1m0s\u001b[0m 669us/step - loss: 0.2460 - mae: 0.3834 - mse: 0.2460 - val_loss: 0.3716 - val_mae: 0.4716 - val_mse: 0.3716\n",
      "Epoch 50/100\n",
      "\u001b[1m128/128\u001b[0m \u001b[32m━━━━━━━━━━━━━━━━━━━━\u001b[0m\u001b[37m\u001b[0m \u001b[1m0s\u001b[0m 689us/step - loss: 0.2351 - mae: 0.3772 - mse: 0.2351 - val_loss: 0.3968 - val_mae: 0.4837 - val_mse: 0.3968\n",
      "Epoch 51/100\n",
      "\u001b[1m128/128\u001b[0m \u001b[32m━━━━━━━━━━━━━━━━━━━━\u001b[0m\u001b[37m\u001b[0m \u001b[1m0s\u001b[0m 665us/step - loss: 0.2470 - mae: 0.3807 - mse: 0.2470 - val_loss: 0.4333 - val_mae: 0.5152 - val_mse: 0.4333\n",
      "Epoch 52/100\n",
      "\u001b[1m128/128\u001b[0m \u001b[32m━━━━━━━━━━━━━━━━━━━━\u001b[0m\u001b[37m\u001b[0m \u001b[1m0s\u001b[0m 697us/step - loss: 0.2362 - mae: 0.3729 - mse: 0.2362 - val_loss: 0.4123 - val_mae: 0.5024 - val_mse: 0.4123\n",
      "Epoch 53/100\n",
      "\u001b[1m128/128\u001b[0m \u001b[32m━━━━━━━━━━━━━━━━━━━━\u001b[0m\u001b[37m\u001b[0m \u001b[1m0s\u001b[0m 697us/step - loss: 0.2503 - mae: 0.3824 - mse: 0.2503 - val_loss: 0.4068 - val_mae: 0.4979 - val_mse: 0.4068\n",
      "Epoch 54/100\n",
      "\u001b[1m128/128\u001b[0m \u001b[32m━━━━━━━━━━━━━━━━━━━━\u001b[0m\u001b[37m\u001b[0m \u001b[1m0s\u001b[0m 685us/step - loss: 0.2415 - mae: 0.3681 - mse: 0.2415 - val_loss: 0.3669 - val_mae: 0.4710 - val_mse: 0.3669\n",
      "Epoch 55/100\n",
      "\u001b[1m128/128\u001b[0m \u001b[32m━━━━━━━━━━━━━━━━━━━━\u001b[0m\u001b[37m\u001b[0m \u001b[1m0s\u001b[0m 697us/step - loss: 0.2342 - mae: 0.3703 - mse: 0.2342 - val_loss: 0.4006 - val_mae: 0.4794 - val_mse: 0.4006\n",
      "Epoch 56/100\n",
      "\u001b[1m128/128\u001b[0m \u001b[32m━━━━━━━━━━━━━━━━━━━━\u001b[0m\u001b[37m\u001b[0m \u001b[1m0s\u001b[0m 673us/step - loss: 0.2273 - mae: 0.3603 - mse: 0.2273 - val_loss: 0.4698 - val_mae: 0.5501 - val_mse: 0.4698\n",
      "Epoch 57/100\n",
      "\u001b[1m128/128\u001b[0m \u001b[32m━━━━━━━━━━━━━━━━━━━━\u001b[0m\u001b[37m\u001b[0m \u001b[1m0s\u001b[0m 680us/step - loss: 0.2276 - mae: 0.3634 - mse: 0.2276 - val_loss: 0.4019 - val_mae: 0.4926 - val_mse: 0.4019\n",
      "Epoch 58/100\n",
      "\u001b[1m128/128\u001b[0m \u001b[32m━━━━━━━━━━━━━━━━━━━━\u001b[0m\u001b[37m\u001b[0m \u001b[1m0s\u001b[0m 705us/step - loss: 0.2346 - mae: 0.3749 - mse: 0.2346 - val_loss: 0.4212 - val_mae: 0.5106 - val_mse: 0.4212\n",
      "Epoch 59/100\n",
      "\u001b[1m128/128\u001b[0m \u001b[32m━━━━━━━━━━━━━━━━━━━━\u001b[0m\u001b[37m\u001b[0m \u001b[1m0s\u001b[0m 689us/step - loss: 0.2143 - mae: 0.3550 - mse: 0.2143 - val_loss: 0.4227 - val_mae: 0.5066 - val_mse: 0.4227\n",
      "Epoch 60/100\n",
      "\u001b[1m128/128\u001b[0m \u001b[32m━━━━━━━━━━━━━━━━━━━━\u001b[0m\u001b[37m\u001b[0m \u001b[1m0s\u001b[0m 689us/step - loss: 0.2067 - mae: 0.3497 - mse: 0.2067 - val_loss: 0.4073 - val_mae: 0.5042 - val_mse: 0.4073\n",
      "Epoch 61/100\n",
      "\u001b[1m128/128\u001b[0m \u001b[32m━━━━━━━━━━━━━━━━━━━━\u001b[0m\u001b[37m\u001b[0m \u001b[1m0s\u001b[0m 681us/step - loss: 0.2227 - mae: 0.3585 - mse: 0.2227 - val_loss: 0.4501 - val_mae: 0.5137 - val_mse: 0.4501\n",
      "Epoch 62/100\n",
      "\u001b[1m128/128\u001b[0m \u001b[32m━━━━━━━━━━━━━━━━━━━━\u001b[0m\u001b[37m\u001b[0m \u001b[1m0s\u001b[0m 705us/step - loss: 0.2373 - mae: 0.3693 - mse: 0.2373 - val_loss: 0.4449 - val_mae: 0.5230 - val_mse: 0.4449\n",
      "Epoch 63/100\n",
      "\u001b[1m128/128\u001b[0m \u001b[32m━━━━━━━━━━━━━━━━━━━━\u001b[0m\u001b[37m\u001b[0m \u001b[1m0s\u001b[0m 705us/step - loss: 0.2424 - mae: 0.3674 - mse: 0.2424 - val_loss: 0.3792 - val_mae: 0.4683 - val_mse: 0.3792\n",
      "Epoch 64/100\n",
      "\u001b[1m128/128\u001b[0m \u001b[32m━━━━━━━━━━━━━━━━━━━━\u001b[0m\u001b[37m\u001b[0m \u001b[1m0s\u001b[0m 701us/step - loss: 0.2237 - mae: 0.3618 - mse: 0.2237 - val_loss: 0.4106 - val_mae: 0.4891 - val_mse: 0.4106\n",
      "Epoch 65/100\n",
      "\u001b[1m128/128\u001b[0m \u001b[32m━━━━━━━━━━━━━━━━━━━━\u001b[0m\u001b[37m\u001b[0m \u001b[1m0s\u001b[0m 717us/step - loss: 0.2184 - mae: 0.3565 - mse: 0.2184 - val_loss: 0.4631 - val_mae: 0.5257 - val_mse: 0.4631\n",
      "Epoch 66/100\n",
      "\u001b[1m128/128\u001b[0m \u001b[32m━━━━━━━━━━━━━━━━━━━━\u001b[0m\u001b[37m\u001b[0m \u001b[1m0s\u001b[0m 697us/step - loss: 0.2228 - mae: 0.3574 - mse: 0.2228 - val_loss: 0.4141 - val_mae: 0.4900 - val_mse: 0.4141\n",
      "Epoch 67/100\n",
      "\u001b[1m128/128\u001b[0m \u001b[32m━━━━━━━━━━━━━━━━━━━━\u001b[0m\u001b[37m\u001b[0m \u001b[1m0s\u001b[0m 721us/step - loss: 0.2118 - mae: 0.3541 - mse: 0.2118 - val_loss: 0.3883 - val_mae: 0.4888 - val_mse: 0.3883\n",
      "Epoch 68/100\n",
      "\u001b[1m128/128\u001b[0m \u001b[32m━━━━━━━━━━━━━━━━━━━━\u001b[0m\u001b[37m\u001b[0m \u001b[1m0s\u001b[0m 736us/step - loss: 0.2130 - mae: 0.3542 - mse: 0.2130 - val_loss: 0.3867 - val_mae: 0.4812 - val_mse: 0.3867\n",
      "Epoch 69/100\n",
      "\u001b[1m128/128\u001b[0m \u001b[32m━━━━━━━━━━━━━━━━━━━━\u001b[0m\u001b[37m\u001b[0m \u001b[1m0s\u001b[0m 728us/step - loss: 0.1973 - mae: 0.3457 - mse: 0.1973 - val_loss: 0.3895 - val_mae: 0.4877 - val_mse: 0.3895\n",
      "Epoch 70/100\n",
      "\u001b[1m128/128\u001b[0m \u001b[32m━━━━━━━━━━━━━━━━━━━━\u001b[0m\u001b[37m\u001b[0m \u001b[1m0s\u001b[0m 709us/step - loss: 0.2119 - mae: 0.3501 - mse: 0.2119 - val_loss: 0.4371 - val_mae: 0.5140 - val_mse: 0.4371\n",
      "Epoch 71/100\n",
      "\u001b[1m128/128\u001b[0m \u001b[32m━━━━━━━━━━━━━━━━━━━━\u001b[0m\u001b[37m\u001b[0m \u001b[1m0s\u001b[0m 694us/step - loss: 0.2060 - mae: 0.3424 - mse: 0.2060 - val_loss: 0.4265 - val_mae: 0.5037 - val_mse: 0.4265\n",
      "Epoch 72/100\n",
      "\u001b[1m128/128\u001b[0m \u001b[32m━━━━━━━━━━━━━━━━━━━━\u001b[0m\u001b[37m\u001b[0m \u001b[1m0s\u001b[0m 702us/step - loss: 0.2131 - mae: 0.3509 - mse: 0.2131 - val_loss: 0.4158 - val_mae: 0.4930 - val_mse: 0.4158\n",
      "Epoch 73/100\n",
      "\u001b[1m128/128\u001b[0m \u001b[32m━━━━━━━━━━━━━━━━━━━━\u001b[0m\u001b[37m\u001b[0m \u001b[1m0s\u001b[0m 709us/step - loss: 0.1953 - mae: 0.3333 - mse: 0.1953 - val_loss: 0.4309 - val_mae: 0.4965 - val_mse: 0.4309\n",
      "Epoch 74/100\n",
      "\u001b[1m128/128\u001b[0m \u001b[32m━━━━━━━━━━━━━━━━━━━━\u001b[0m\u001b[37m\u001b[0m \u001b[1m0s\u001b[0m 704us/step - loss: 0.2013 - mae: 0.3390 - mse: 0.2013 - val_loss: 0.4522 - val_mae: 0.5199 - val_mse: 0.4522\n",
      "Epoch 75/100\n",
      "\u001b[1m128/128\u001b[0m \u001b[32m━━━━━━━━━━━━━━━━━━━━\u001b[0m\u001b[37m\u001b[0m \u001b[1m0s\u001b[0m 681us/step - loss: 0.2011 - mae: 0.3414 - mse: 0.2011 - val_loss: 0.3965 - val_mae: 0.4861 - val_mse: 0.3965\n",
      "Epoch 76/100\n",
      "\u001b[1m128/128\u001b[0m \u001b[32m━━━━━━━━━━━━━━━━━━━━\u001b[0m\u001b[37m\u001b[0m \u001b[1m0s\u001b[0m 677us/step - loss: 0.1856 - mae: 0.3299 - mse: 0.1856 - val_loss: 0.5000 - val_mae: 0.5627 - val_mse: 0.5000\n",
      "Epoch 77/100\n",
      "\u001b[1m128/128\u001b[0m \u001b[32m━━━━━━━━━━━━━━━━━━━━\u001b[0m\u001b[37m\u001b[0m \u001b[1m0s\u001b[0m 677us/step - loss: 0.1960 - mae: 0.3387 - mse: 0.1960 - val_loss: 0.4374 - val_mae: 0.5227 - val_mse: 0.4374\n",
      "Epoch 78/100\n",
      "\u001b[1m128/128\u001b[0m \u001b[32m━━━━━━━━━━━━━━━━━━━━\u001b[0m\u001b[37m\u001b[0m \u001b[1m0s\u001b[0m 697us/step - loss: 0.1959 - mae: 0.3415 - mse: 0.1959 - val_loss: 0.3907 - val_mae: 0.4729 - val_mse: 0.3907\n",
      "Epoch 79/100\n",
      "\u001b[1m128/128\u001b[0m \u001b[32m━━━━━━━━━━━━━━━━━━━━\u001b[0m\u001b[37m\u001b[0m \u001b[1m0s\u001b[0m 681us/step - loss: 0.1963 - mae: 0.3393 - mse: 0.1963 - val_loss: 0.4625 - val_mae: 0.5093 - val_mse: 0.4625\n",
      "Epoch 80/100\n",
      "\u001b[1m128/128\u001b[0m \u001b[32m━━━━━━━━━━━━━━━━━━━━\u001b[0m\u001b[37m\u001b[0m \u001b[1m0s\u001b[0m 681us/step - loss: 0.1954 - mae: 0.3353 - mse: 0.1954 - val_loss: 0.3969 - val_mae: 0.4876 - val_mse: 0.3969\n",
      "Epoch 81/100\n",
      "\u001b[1m128/128\u001b[0m \u001b[32m━━━━━━━━━━━━━━━━━━━━\u001b[0m\u001b[37m\u001b[0m \u001b[1m0s\u001b[0m 689us/step - loss: 0.2009 - mae: 0.3443 - mse: 0.2009 - val_loss: 0.4036 - val_mae: 0.4805 - val_mse: 0.4036\n",
      "Epoch 82/100\n",
      "\u001b[1m128/128\u001b[0m \u001b[32m━━━━━━━━━━━━━━━━━━━━\u001b[0m\u001b[37m\u001b[0m \u001b[1m0s\u001b[0m 681us/step - loss: 0.1797 - mae: 0.3166 - mse: 0.1797 - val_loss: 0.4277 - val_mae: 0.4867 - val_mse: 0.4277\n",
      "Epoch 83/100\n",
      "\u001b[1m128/128\u001b[0m \u001b[32m━━━━━━━━━━━━━━━━━━━━\u001b[0m\u001b[37m\u001b[0m \u001b[1m0s\u001b[0m 664us/step - loss: 0.1895 - mae: 0.3318 - mse: 0.1895 - val_loss: 0.4096 - val_mae: 0.4971 - val_mse: 0.4096\n",
      "Epoch 84/100\n",
      "\u001b[1m128/128\u001b[0m \u001b[32m━━━━━━━━━━━━━━━━━━━━\u001b[0m\u001b[37m\u001b[0m \u001b[1m0s\u001b[0m 705us/step - loss: 0.1826 - mae: 0.3307 - mse: 0.1826 - val_loss: 0.4321 - val_mae: 0.4886 - val_mse: 0.4321\n",
      "Epoch 85/100\n",
      "\u001b[1m128/128\u001b[0m \u001b[32m━━━━━━━━━━━━━━━━━━━━\u001b[0m\u001b[37m\u001b[0m \u001b[1m0s\u001b[0m 674us/step - loss: 0.1865 - mae: 0.3251 - mse: 0.1865 - val_loss: 0.3895 - val_mae: 0.4837 - val_mse: 0.3895\n",
      "Epoch 86/100\n",
      "\u001b[1m128/128\u001b[0m \u001b[32m━━━━━━━━━━━━━━━━━━━━\u001b[0m\u001b[37m\u001b[0m \u001b[1m0s\u001b[0m 698us/step - loss: 0.1761 - mae: 0.3117 - mse: 0.1761 - val_loss: 0.3983 - val_mae: 0.4736 - val_mse: 0.3983\n",
      "Epoch 87/100\n",
      "\u001b[1m128/128\u001b[0m \u001b[32m━━━━━━━━━━━━━━━━━━━━\u001b[0m\u001b[37m\u001b[0m \u001b[1m0s\u001b[0m 694us/step - loss: 0.1802 - mae: 0.3186 - mse: 0.1802 - val_loss: 0.4251 - val_mae: 0.4901 - val_mse: 0.4251\n",
      "Epoch 88/100\n",
      "\u001b[1m128/128\u001b[0m \u001b[32m━━━━━━━━━━━━━━━━━━━━\u001b[0m\u001b[37m\u001b[0m \u001b[1m0s\u001b[0m 683us/step - loss: 0.2037 - mae: 0.3392 - mse: 0.2037 - val_loss: 0.4787 - val_mae: 0.5502 - val_mse: 0.4787\n",
      "Epoch 89/100\n",
      "\u001b[1m128/128\u001b[0m \u001b[32m━━━━━━━━━━━━━━━━━━━━\u001b[0m\u001b[37m\u001b[0m \u001b[1m0s\u001b[0m 694us/step - loss: 0.1773 - mae: 0.3265 - mse: 0.1773 - val_loss: 0.4117 - val_mae: 0.4944 - val_mse: 0.4117\n",
      "Epoch 90/100\n",
      "\u001b[1m128/128\u001b[0m \u001b[32m━━━━━━━━━━━━━━━━━━━━\u001b[0m\u001b[37m\u001b[0m \u001b[1m0s\u001b[0m 702us/step - loss: 0.1997 - mae: 0.3354 - mse: 0.1997 - val_loss: 0.4252 - val_mae: 0.4970 - val_mse: 0.4252\n",
      "Epoch 91/100\n",
      "\u001b[1m128/128\u001b[0m \u001b[32m━━━━━━━━━━━━━━━━━━━━\u001b[0m\u001b[37m\u001b[0m \u001b[1m0s\u001b[0m 677us/step - loss: 0.1701 - mae: 0.3109 - mse: 0.1701 - val_loss: 0.3994 - val_mae: 0.4819 - val_mse: 0.3994\n",
      "Epoch 92/100\n",
      "\u001b[1m128/128\u001b[0m \u001b[32m━━━━━━━━━━━━━━━━━━━━\u001b[0m\u001b[37m\u001b[0m \u001b[1m0s\u001b[0m 698us/step - loss: 0.1879 - mae: 0.3253 - mse: 0.1879 - val_loss: 0.4084 - val_mae: 0.4849 - val_mse: 0.4084\n",
      "Epoch 93/100\n",
      "\u001b[1m128/128\u001b[0m \u001b[32m━━━━━━━━━━━━━━━━━━━━\u001b[0m\u001b[37m\u001b[0m \u001b[1m0s\u001b[0m 691us/step - loss: 0.1724 - mae: 0.3161 - mse: 0.1724 - val_loss: 0.4665 - val_mae: 0.5275 - val_mse: 0.4665\n",
      "Epoch 94/100\n",
      "\u001b[1m128/128\u001b[0m \u001b[32m━━━━━━━━━━━━━━━━━━━━\u001b[0m\u001b[37m\u001b[0m \u001b[1m0s\u001b[0m 686us/step - loss: 0.1901 - mae: 0.3381 - mse: 0.1901 - val_loss: 0.4125 - val_mae: 0.4853 - val_mse: 0.4125\n",
      "Epoch 95/100\n",
      "\u001b[1m128/128\u001b[0m \u001b[32m━━━━━━━━━━━━━━━━━━━━\u001b[0m\u001b[37m\u001b[0m \u001b[1m0s\u001b[0m 674us/step - loss: 0.1653 - mae: 0.3086 - mse: 0.1653 - val_loss: 0.4392 - val_mae: 0.5128 - val_mse: 0.4392\n",
      "Epoch 96/100\n",
      "\u001b[1m128/128\u001b[0m \u001b[32m━━━━━━━━━━━━━━━━━━━━\u001b[0m\u001b[37m\u001b[0m \u001b[1m0s\u001b[0m 698us/step - loss: 0.1735 - mae: 0.3166 - mse: 0.1735 - val_loss: 0.4324 - val_mae: 0.5047 - val_mse: 0.4324\n",
      "Epoch 97/100\n",
      "\u001b[1m128/128\u001b[0m \u001b[32m━━━━━━━━━━━━━━━━━━━━\u001b[0m\u001b[37m\u001b[0m \u001b[1m0s\u001b[0m 682us/step - loss: 0.1787 - mae: 0.3134 - mse: 0.1787 - val_loss: 0.4250 - val_mae: 0.5075 - val_mse: 0.4250\n",
      "Epoch 98/100\n",
      "\u001b[1m128/128\u001b[0m \u001b[32m━━━━━━━━━━━━━━━━━━━━\u001b[0m\u001b[37m\u001b[0m \u001b[1m0s\u001b[0m 678us/step - loss: 0.1629 - mae: 0.3083 - mse: 0.1629 - val_loss: 0.4220 - val_mae: 0.4913 - val_mse: 0.4220\n",
      "Epoch 99/100\n",
      "\u001b[1m128/128\u001b[0m \u001b[32m━━━━━━━━━━━━━━━━━━━━\u001b[0m\u001b[37m\u001b[0m \u001b[1m0s\u001b[0m 686us/step - loss: 0.1805 - mae: 0.3224 - mse: 0.1805 - val_loss: 0.4209 - val_mae: 0.5069 - val_mse: 0.4209\n",
      "Epoch 100/100\n",
      "\u001b[1m128/128\u001b[0m \u001b[32m━━━━━━━━━━━━━━━━━━━━\u001b[0m\u001b[37m\u001b[0m \u001b[1m0s\u001b[0m 678us/step - loss: 0.1686 - mae: 0.3190 - mse: 0.1686 - val_loss: 0.4030 - val_mae: 0.4908 - val_mse: 0.4030\n"
     ]
    }
   ],
   "source": [
    "history = model.fit(X_train, y_train, epochs = 100, batch_size = 10, validation_data = (X_test, y_test), callbacks = [savemodel_callback])"
   ]
  },
  {
   "cell_type": "code",
   "execution_count": 16,
   "id": "c1715e3b-f45c-40c2-82bf-eb7e68138b79",
   "metadata": {},
   "outputs": [
    {
     "data": {
      "text/plain": [
       "[<matplotlib.lines.Line2D at 0x230ca3c6b40>]"
      ]
     },
     "execution_count": 16,
     "metadata": {},
     "output_type": "execute_result"
    },
    {
     "data": {
      "image/png": "[encoded data removed]",
      "text/plain": [
       "<Figure size 640x480 with 1 Axes>"
      ]
     },
     "metadata": {},
     "output_type": "display_data"
    }
   ],
   "source": [
    "plt.plot(history.history['mse'])\n",
    "plt.plot(history.history['val_mse'])"
   ]
  },
  {
   "cell_type": "code",
   "execution_count": 17,
   "id": "5c0ae695-22ee-4712-9015-fd9aa8ecddda",
   "metadata": {},
   "outputs": [
    {
     "data": {
      "text/plain": [
       "[<matplotlib.lines.Line2D at 0x230cc8488c0>]"
      ]
     },
     "execution_count": 17,
     "metadata": {},
     "output_type": "execute_result"
    },
    {
     "data": {
      "image/png": "[encoded data removed]",
      "text/plain": [
       "<Figure size 640x480 with 1 Axes>"
      ]
     },
     "metadata": {},
     "output_type": "display_data"
    }
   ],
   "source": [
    "plt.plot(history.history['mae'])\n",
    "plt.plot(history.history['val_mae'])"
   ]
  },
  {
   "cell_type": "markdown",
   "id": "740581f2-b544-422a-ba57-dcdeb2c0a371",
   "metadata": {},
   "source": [
    "## Application 2 : MNIST\n",
    "\n",
    "Chargement du dataset à partir de keras\n",
    "\n",
    "On utilise un DNN avec autant de neurones de sorties que de classes (9). La dernière fonction d'activation est une softmax qui permet d'avoir une probabilité.\n",
    "\n",
    "On utilise ensuite une fonction argmax qui permet d'avoir le numéro de la classe avec la plus haute proba."
   ]
  },
  {
   "cell_type": "code",
   "execution_count": 2,
   "id": "3f3de3ec-7ec6-40b8-9a00-f9632bdde939",
   "metadata": {},
   "outputs": [],
   "source": [
    "(x_train, y_train), (x_test, y_test) = keras.datasets.mnist.load_data(path=\"mnist.npz\")\n"
   ]
  },
  {
   "cell_type": "code",
   "execution_count": 3,
   "id": "33beecb6-91d9-4622-ad09-1db63a6d8188",
   "metadata": {},
   "outputs": [
    {
     "name": "stdout",
     "output_type": "stream",
     "text": [
      "(60000, 28, 28)\n",
      "(10000, 28, 28)\n",
      "(60000,)\n",
      "(10000,)\n"
     ]
    }
   ],
   "source": [
    "print(x_train.shape)\n",
    "print(x_test.shape)\n",
    "print(y_train.shape)\n",
    "print(y_test.shape)"
   ]
  },
  {
   "cell_type": "markdown",
   "id": "9c7b47c7-9849-4bb5-aa09-add6b56db8f4",
   "metadata": {},
   "source": [
    "### Normalisation\n",
    "\n",
    "Ici on utilise la minmax\n"
   ]
  },
  {
   "cell_type": "code",
   "execution_count": 4,
   "id": "2404f19f-7c33-4f78-88bb-d60edbae19cc",
   "metadata": {},
   "outputs": [
    {
     "name": "stdout",
     "output_type": "stream",
     "text": [
      "0 255\n",
      "0.0 1.0\n"
     ]
    }
   ],
   "source": [
    "print(x_train.min(), x_train.max())\n",
    "xmax = x_train.max()\n",
    "x_train_n = x_train/xmax\n",
    "x_test_n = x_test/xmax\n",
    "print(x_train_n.min(), x_train_n.max())"
   ]
  },
  {
   "cell_type": "markdown",
   "id": "eaab098a-286e-4364-a277-76ba36a686bc",
   "metadata": {},
   "source": [
    "### Créer le modèle"
   ]
  },
  {
   "cell_type": "code",
   "execution_count": 5,
   "id": "8e2c473e-46d0-491f-99dc-c5fab0ac5d2c",
   "metadata": {},
   "outputs": [],
   "source": [
    "def get_model_v2(shape):\n",
    "    hidden1 = 100\n",
    "    hidden2 = 100\n",
    "    model = keras.models.Sequential([\n",
    "        keras.layers.Input(shape, name='InputLayer'),\n",
    "        keras.layers.Flatten(),\n",
    "        keras.layers.Dense(hidden1, activation='relu', name='Dense_n1'),\n",
    "        keras.layers.Dense(hidden2, activation='relu', name='Dense_n2'),\n",
    "        keras.layers.Dense(10, activation= 'softmax', name='Output')])\n",
    "    \n",
    "    model.compile(optimizer = 'adam', loss = 'sparse_categorical_crossentropy', metrics = ['accuracy'])\n",
    "    return model"
   ]
  },
  {
   "cell_type": "code",
   "execution_count": 6,
   "id": "fd6e6225-c8e8-4632-a2df-0ba7e67a0a29",
   "metadata": {},
   "outputs": [
    {
     "data": {
      "text/html": [
       "<pre style=\"white-space:pre;overflow-x:auto;line-height:normal;font-family:Menlo,'DejaVu Sans Mono',consolas,'Courier New',monospace\"><span style=\"font-weight: bold\">Model: \"sequential\"</span>\n",
       "</pre>\n"
      ],
      "text/plain": [
       "\u001b[1mModel: \"sequential\"\u001b[0m\n"
      ]
     },
     "metadata": {},
     "output_type": "display_data"
    },
    {
     "data": {
      "text/html": [
       "<pre style=\"white-space:pre;overflow-x:auto;line-height:normal;font-family:Menlo,'DejaVu Sans Mono',consolas,'Courier New',monospace\">┏━━━━━━━━━━━━━━━━━━━━━━━━━━━━━━━━━━━━━━┳━━━━━━━━━━━━━━━━━━━━━━━━━━━━━┳━━━━━━━━━━━━━━━━━┓\n",
       "┃<span style=\"font-weight: bold\"> Layer (type)                         </span>┃<span style=\"font-weight: bold\"> Output Shape                </span>┃<span style=\"font-weight: bold\">         Param # </span>┃\n",
       "┡━━━━━━━━━━━━━━━━━━━━━━━━━━━━━━━━━━━━━━╇━━━━━━━━━━━━━━━━━━━━━━━━━━━━━╇━━━━━━━━━━━━━━━━━┩\n",
       "│ flatten (<span style=\"color: #0087ff; text-decoration-color: #0087ff\">Flatten</span>)                    │ (<span style=\"color: #00d7ff; text-decoration-color: #00d7ff\">None</span>, <span style=\"color: #00af00; text-decoration-color: #00af00\">784</span>)                 │               <span style=\"color: #00af00; text-decoration-color: #00af00\">0</span> │\n",
       "├──────────────────────────────────────┼─────────────────────────────┼─────────────────┤\n",
       "│ Dense_n1 (<span style=\"color: #0087ff; text-decoration-color: #0087ff\">Dense</span>)                     │ (<span style=\"color: #00d7ff; text-decoration-color: #00d7ff\">None</span>, <span style=\"color: #00af00; text-decoration-color: #00af00\">100</span>)                 │          <span style=\"color: #00af00; text-decoration-color: #00af00\">78,500</span> │\n",
       "├──────────────────────────────────────┼─────────────────────────────┼─────────────────┤\n",
       "│ Dense_n2 (<span style=\"color: #0087ff; text-decoration-color: #0087ff\">Dense</span>)                     │ (<span style=\"color: #00d7ff; text-decoration-color: #00d7ff\">None</span>, <span style=\"color: #00af00; text-decoration-color: #00af00\">100</span>)                 │          <span style=\"color: #00af00; text-decoration-color: #00af00\">10,100</span> │\n",
       "├──────────────────────────────────────┼─────────────────────────────┼─────────────────┤\n",
       "│ Output (<span style=\"color: #0087ff; text-decoration-color: #0087ff\">Dense</span>)                       │ (<span style=\"color: #00d7ff; text-decoration-color: #00d7ff\">None</span>, <span style=\"color: #00af00; text-decoration-color: #00af00\">10</span>)                  │           <span style=\"color: #00af00; text-decoration-color: #00af00\">1,010</span> │\n",
       "└──────────────────────────────────────┴─────────────────────────────┴─────────────────┘\n",
       "</pre>\n"
      ],
      "text/plain": [
       "┏━━━━━━━━━━━━━━━━━━━━━━━━━━━━━━━━━━━━━━┳━━━━━━━━━━━━━━━━━━━━━━━━━━━━━┳━━━━━━━━━━━━━━━━━┓\n",
       "┃\u001b[1m \u001b[0m\u001b[1mLayer (type)                        \u001b[0m\u001b[1m \u001b[0m┃\u001b[1m \u001b[0m\u001b[1mOutput Shape               \u001b[0m\u001b[1m \u001b[0m┃\u001b[1m \u001b[0m\u001b[1m        Param #\u001b[0m\u001b[1m \u001b[0m┃\n",
       "┡━━━━━━━━━━━━━━━━━━━━━━━━━━━━━━━━━━━━━━╇━━━━━━━━━━━━━━━━━━━━━━━━━━━━━╇━━━━━━━━━━━━━━━━━┩\n",
       "│ flatten (\u001b[38;5;33mFlatten\u001b[0m)                    │ (\u001b[38;5;45mNone\u001b[0m, \u001b[38;5;34m784\u001b[0m)                 │               \u001b[38;5;34m0\u001b[0m │\n",
       "├──────────────────────────────────────┼─────────────────────────────┼─────────────────┤\n",
       "│ Dense_n1 (\u001b[38;5;33mDense\u001b[0m)                     │ (\u001b[38;5;45mNone\u001b[0m, \u001b[38;5;34m100\u001b[0m)                 │          \u001b[38;5;34m78,500\u001b[0m │\n",
       "├──────────────────────────────────────┼─────────────────────────────┼─────────────────┤\n",
       "│ Dense_n2 (\u001b[38;5;33mDense\u001b[0m)                     │ (\u001b[38;5;45mNone\u001b[0m, \u001b[38;5;34m100\u001b[0m)                 │          \u001b[38;5;34m10,100\u001b[0m │\n",
       "├──────────────────────────────────────┼─────────────────────────────┼─────────────────┤\n",
       "│ Output (\u001b[38;5;33mDense\u001b[0m)                       │ (\u001b[38;5;45mNone\u001b[0m, \u001b[38;5;34m10\u001b[0m)                  │           \u001b[38;5;34m1,010\u001b[0m │\n",
       "└──────────────────────────────────────┴─────────────────────────────┴─────────────────┘\n"
      ]
     },
     "metadata": {},
     "output_type": "display_data"
    },
    {
     "data": {
      "text/html": [
       "<pre style=\"white-space:pre;overflow-x:auto;line-height:normal;font-family:Menlo,'DejaVu Sans Mono',consolas,'Courier New',monospace\"><span style=\"font-weight: bold\"> Total params: </span><span style=\"color: #00af00; text-decoration-color: #00af00\">89,610</span> (350.04 KB)\n",
       "</pre>\n"
      ],
      "text/plain": [
       "\u001b[1m Total params: \u001b[0m\u001b[38;5;34m89,610\u001b[0m (350.04 KB)\n"
      ]
     },
     "metadata": {},
     "output_type": "display_data"
    },
    {
     "data": {
      "text/html": [
       "<pre style=\"white-space:pre;overflow-x:auto;line-height:normal;font-family:Menlo,'DejaVu Sans Mono',consolas,'Courier New',monospace\"><span style=\"font-weight: bold\"> Trainable params: </span><span style=\"color: #00af00; text-decoration-color: #00af00\">89,610</span> (350.04 KB)\n",
       "</pre>\n"
      ],
      "text/plain": [
       "\u001b[1m Trainable params: \u001b[0m\u001b[38;5;34m89,610\u001b[0m (350.04 KB)\n"
      ]
     },
     "metadata": {},
     "output_type": "display_data"
    },
    {
     "data": {
      "text/html": [
       "<pre style=\"white-space:pre;overflow-x:auto;line-height:normal;font-family:Menlo,'DejaVu Sans Mono',consolas,'Courier New',monospace\"><span style=\"font-weight: bold\"> Non-trainable params: </span><span style=\"color: #00af00; text-decoration-color: #00af00\">0</span> (0.00 B)\n",
       "</pre>\n"
      ],
      "text/plain": [
       "\u001b[1m Non-trainable params: \u001b[0m\u001b[38;5;34m0\u001b[0m (0.00 B)\n"
      ]
     },
     "metadata": {},
     "output_type": "display_data"
    }
   ],
   "source": [
    "size = (x_train.shape[1], x_train.shape[2])\n",
    "model = get_model_v2(size)\n",
    "model.summary()"
   ]
  },
  {
   "cell_type": "markdown",
   "id": "b79a00ad-7439-4681-96d2-39bdab94dc73",
   "metadata": {},
   "source": [
    "### Entrainer le modèle\n",
    "\n",
    "Callback: définir une condition d'arret et de sauvegarde du modèle. \n",
    "\n",
    "ModelCheckpoint enregistre le modèle selon les conditions spécifiée.\n",
    "Ici on souhaite l'enregistrer à chaque fois qu'on obtiens une accuracy sur les données de validation supérieure à toutes les précédentes.\n",
    "On fixe un threshold à 0.9 pour ne pas tout enregistrer.\n",
    "\n",
    "EarlyStopping permet d'arrêter le training quand les conditions sont atteintes. Ici on donne comme condition l'amélioration de l'accuracy sur\n",
    "les données de validation. Patience spécifie le nombre d'Epoch sans amélioration qu'on attend avant d'arrêter le training. Si nécessaire, on peut\n",
    "utiliser \"min_delta = float\" pour spécifier le changement minimum considéré comme une amélioration.\n",
    "On indique commencer à monitorer pour un EarlyStopping à partir de l'epoch 5, et aussi qu'en cas d'arrêt, il faudra restaurer les dernier meilleurs poids."
   ]
  },
  {
   "cell_type": "code",
   "execution_count": 7,
   "id": "9a731816-d0d2-4c82-9cc2-5e691364151e",
   "metadata": {},
   "outputs": [],
   "source": [
    "savemodel_callback = [keras.callbacks.ModelCheckpoint(filepath=\"models/mnistDNN_{epoch:02d}-{val_accuracy:.3f}.keras\", monitor = 'val_accuracy',\n",
    "                                                      save_best_only = True, mode = 'max', initial_value_threshold = 0.9),\n",
    "                      keras.callbacks.EarlyStopping(monitor = 'val_accuracy', mode = 'max', patience=5, start_from_epoch = 5, \n",
    "                                                   restore_best_weights = True)]"
   ]
  },
  {
   "cell_type": "code",
   "execution_count": 15,
   "id": "dd9b0608-ca66-4d8f-8285-d4daeceb0232",
   "metadata": {},
   "outputs": [
    {
     "name": "stdout",
     "output_type": "stream",
     "text": [
      "Epoch 1/100\n",
      "\u001b[1m235/235\u001b[0m \u001b[32m━━━━━━━━━━━━━━━━━━━━\u001b[0m\u001b[37m\u001b[0m \u001b[1m2s\u001b[0m 10ms/step - accuracy: 0.9918 - loss: 0.0262 - val_accuracy: 0.9761 - val_loss: 0.1386\n",
      "Epoch 2/100\n",
      "\u001b[1m235/235\u001b[0m \u001b[32m━━━━━━━━━━━━━━━━━━━━\u001b[0m\u001b[37m\u001b[0m \u001b[1m0s\u001b[0m 1ms/step - accuracy: 0.9965 - loss: 0.0107 - val_accuracy: 0.9773 - val_loss: 0.1461\n",
      "Epoch 3/100\n",
      "\u001b[1m235/235\u001b[0m \u001b[32m━━━━━━━━━━━━━━━━━━━━\u001b[0m\u001b[37m\u001b[0m \u001b[1m0s\u001b[0m 1ms/step - accuracy: 0.9972 - loss: 0.0096 - val_accuracy: 0.9778 - val_loss: 0.1455\n",
      "Epoch 4/100\n",
      "\u001b[1m235/235\u001b[0m \u001b[32m━━━━━━━━━━━━━━━━━━━━\u001b[0m\u001b[37m\u001b[0m \u001b[1m0s\u001b[0m 2ms/step - accuracy: 0.9982 - loss: 0.0056 - val_accuracy: 0.9784 - val_loss: 0.1464\n",
      "Epoch 5/100\n",
      "\u001b[1m235/235\u001b[0m \u001b[32m━━━━━━━━━━━━━━━━━━━━\u001b[0m\u001b[37m\u001b[0m \u001b[1m0s\u001b[0m 1ms/step - accuracy: 0.9984 - loss: 0.0054 - val_accuracy: 0.9779 - val_loss: 0.1555\n",
      "Epoch 6/100\n",
      "\u001b[1m235/235\u001b[0m \u001b[32m━━━━━━━━━━━━━━━━━━━━\u001b[0m\u001b[37m\u001b[0m \u001b[1m0s\u001b[0m 1ms/step - accuracy: 0.9989 - loss: 0.0039 - val_accuracy: 0.9763 - val_loss: 0.1662\n",
      "Epoch 7/100\n",
      "\u001b[1m235/235\u001b[0m \u001b[32m━━━━━━━━━━━━━━━━━━━━\u001b[0m\u001b[37m\u001b[0m \u001b[1m0s\u001b[0m 1ms/step - accuracy: 0.9985 - loss: 0.0050 - val_accuracy: 0.9781 - val_loss: 0.1680\n",
      "Epoch 8/100\n",
      "\u001b[1m235/235\u001b[0m \u001b[32m━━━━━━━━━━━━━━━━━━━━\u001b[0m\u001b[37m\u001b[0m \u001b[1m0s\u001b[0m 1ms/step - accuracy: 0.9992 - loss: 0.0031 - val_accuracy: 0.9776 - val_loss: 0.1873\n",
      "Epoch 9/100\n",
      "\u001b[1m235/235\u001b[0m \u001b[32m━━━━━━━━━━━━━━━━━━━━\u001b[0m\u001b[37m\u001b[0m \u001b[1m0s\u001b[0m 1ms/step - accuracy: 0.9989 - loss: 0.0038 - val_accuracy: 0.9772 - val_loss: 0.1804\n",
      "Epoch 10/100\n",
      "\u001b[1m235/235\u001b[0m \u001b[32m━━━━━━━━━━━━━━━━━━━━\u001b[0m\u001b[37m\u001b[0m \u001b[1m0s\u001b[0m 1ms/step - accuracy: 0.9988 - loss: 0.0040 - val_accuracy: 0.9746 - val_loss: 0.1963\n",
      "Epoch 11/100\n",
      "\u001b[1m235/235\u001b[0m \u001b[32m━━━━━━━━━━━━━━━━━━━━\u001b[0m\u001b[37m\u001b[0m \u001b[1m0s\u001b[0m 1ms/step - accuracy: 0.9935 - loss: 0.0197 - val_accuracy: 0.9742 - val_loss: 0.2006\n",
      "Epoch 12/100\n",
      "\u001b[1m235/235\u001b[0m \u001b[32m━━━━━━━━━━━━━━━━━━━━\u001b[0m\u001b[37m\u001b[0m \u001b[1m0s\u001b[0m 1ms/step - accuracy: 0.9957 - loss: 0.0143 - val_accuracy: 0.9729 - val_loss: 0.2082\n"
     ]
    }
   ],
   "source": [
    "history = model.fit(x_train, y_train, epochs = 100, batch_size = 256, validation_data = (x_test, y_test), callbacks = savemodel_callback)"
   ]
  },
  {
   "cell_type": "code",
   "execution_count": 16,
   "id": "dcfbb5a3-a3c2-495c-979e-91b004b65be5",
   "metadata": {},
   "outputs": [
    {
     "data": {
      "text/plain": [
       "[<matplotlib.lines.Line2D at 0x2231a538050>]"
      ]
     },
     "execution_count": 16,
     "metadata": {},
     "output_type": "execute_result"
    },
    {
     "data": {
      "image/png": "[encoded data removed]",
      "text/plain": [
       "<Figure size 640x480 with 1 Axes>"
      ]
     },
     "metadata": {},
     "output_type": "display_data"
    }
   ],
   "source": [
    "plt.plot(history.history['accuracy'])\n",
    "plt.plot(history.history['val_accuracy'])"
   ]
  },
  {
   "cell_type": "code",
   "execution_count": 17,
   "id": "67895a08-ada9-4081-8e3f-7aa44ae3c113",
   "metadata": {},
   "outputs": [
    {
     "data": {
      "text/plain": [
       "[<matplotlib.lines.Line2D at 0x2231a5455b0>]"
      ]
     },
     "execution_count": 17,
     "metadata": {},
     "output_type": "execute_result"
    },
    {
     "data": {
      "image/png": "[encoded data removed]",
      "text/plain": [
       "<Figure size 640x480 with 1 Axes>"
      ]
     },
     "metadata": {},
     "output_type": "display_data"
    }
   ],
   "source": [
    "plt.plot(history.history['loss'])\n",
    "plt.plot(history.history['val_loss'])"
   ]
  },
  {
   "cell_type": "code",
   "execution_count": null,
   "id": "dd92d957-2a3d-4442-80ef-c5b036cd5c8a",
   "metadata": {},
   "outputs": [],
   "source": []
  }
 ],
 "metadata": {
  "kernelspec": {
   "display_name": "Python 3 (ipykernel)",
   "language": "python",
   "name": "python3"
  },
  "language_info": {
   "codemirror_mode": {
    "name": "ipython",
    "version": 3
   },
   "file_extension": ".py",
   "mimetype": "text/x-python",
   "name": "python",
   "nbconvert_exporter": "python",
   "pygments_lexer": "ipython3",
   "version": "3.12.3"
  }
 },
 "nbformat": 4,
 "nbformat_minor": 5
}
